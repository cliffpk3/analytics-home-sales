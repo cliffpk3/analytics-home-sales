{
 "cells": [
  {
   "cell_type": "code",
   "execution_count": 1,
   "id": "37ce12bf",
   "metadata": {},
   "outputs": [],
   "source": [
    "#Imports:\n",
    "import pandas as pd\n",
    "import seaborn as sns\n",
    "import matplotlib.pyplot as plt\n",
    "import numpy as np\n",
    "\n",
    "#Options:\n",
    "sns.set_style('darkgrid')\n",
    "pd.set_option('display.float_format', lambda x: '%.2f' % x)\n",
    "%matplotlib inline"
   ]
  },
  {
   "cell_type": "code",
   "execution_count": 2,
   "id": "9b2680ba",
   "metadata": {},
   "outputs": [],
   "source": [
    "# 1. Questão de negócio\n",
    "# 1)\tQuais imóveis a House Rocket deve comprar e por qual preço?\n",
    "# 2)\tUma vez comprado, qual melhor momento para vender o imóvel e por qual preço?\n",
    "# Entendimento de Negócio\n",
    "# 1)\tProdutos finais (o que realmente vou entregar?)\n",
    "# 3 relatórios:\n",
    "# 1º relatório com sugestão de compras dos imóveis por um valor recomendado.\n",
    "# 2º relatório em PDF contendo estrutura semelhante ao do projeto https://gitlab.com/datascience-community/pa001_cardio_catch_diseases\n",
    "# \n",
    "# 2)\tQuais são as ferramentas?\n",
    "# Editor de PDF, editor de texto, jupyter notebook, streamlit.\n",
    "# \n",
    "# 3)\tProcesso (quais os passos necessários para alcançar os objetivos?)\n",
    "# 1.3.1 Coleta dos dados da Kaggle;\n",
    "# 1.3.2 Limpeza dos dados e determinação de valor para exclusão de outliers (clean_data);\n",
    "# 1.3.3 Agrupamento dos dados por região e por estação do ano (inverno ou demais estações) (set_data);\n",
    "# 1.3.4 Determinação da mediana de preço para imóveis no inverno e em demais estações (set_data);\n",
    "# 1.3.5 Criação de variáveis para melhor análise exploratória de dados (is_renovated, is_winter) (set_data);\n",
    "# 1.3.6 A compra dos imóveis será aplicada em duas possibilidades:\n",
    "# a) Os imóveis que foram anunciados em outras estações com exceção do inverno, terão seus valores de compra comparados com a mediana de preço dos demais imóveis com estações similares e códigos postais idênticos.\n",
    "# b) Os imóveis que foram anunciados no inverno serão distribuidos em um novo grupo e o preço desses imóveis será comparado a mediana do preço dos imóveis no mesmo código postal que também estão sendo anunciados durante o inverno.\n",
    "# 1.3.7 Determinação dos imóveis que valem a pena serem comprados e preço e geração de relatório em PDF (buying_list);\n",
    "# 1.3.8 Análise exploratória de dados;\n",
    "# 1.3.9 Conclusão;\n",
    "\n",
    "# 2. Premissas\n",
    "# 2.1 Da aquisição e venda dos imóveis\n",
    "# a) Somente casas com valores de compra abaixo da mediana por código postal serão compradas;\n",
    "# b) As casas terão preço de venda de 130% sobre o preço de compra;\n",
    "# 2.2 Da reestruturação de dados\n",
    "# a) Valores outliers serão excluídos;\n",
    "# b) Valores duplicados na coluna \"ID\" serão excluídos;\n",
    "# c) A coluna \"price\" corresponde ao preço de compra dos imóveis;\n",
    "# d) A coluna is_winter foi criada com o intuito de validar se durante o período de compra do imóvel a estação vigente era o inverno, permitindo legitimação de um dos insights de negócio. \n",
    "# e) A coluna median_price e winter_median_price foram criada com o intuito de comparar o preço de compra da casa com o valor da mediana de compra do grupo de casas naquele código-postal (zipcode), permitindo movimentações de compras mais proveitosas financeiramente.\n",
    "# f) A coluna is_renovated evidencia as casas que foram reformadas, possibilitando melhor análise estrutural de dados.\n",
    "# g) A coluna worth_buying descreve quais casas valem a pena ser compradas de acordo com as métricas estabelecidas no projeto.\n",
    "    \n",
    "# 3. Planejamento da solução\n",
    "# 3.1 Importação dos dados do Kaggle (inserir link);\n",
    "# 3.2 Limpeza e estruturação dos dados;\n",
    "# 3.3 Análise exploratória dos dados;\n",
    "# 3.4 Validação de insights.\n",
    "# 3.5 Hospedagem dos arquivos do site no Heroku.\n",
    " \n",
    "# 4. Os 3 principais insights de negócio\n",
    "# 4.1 Casas vendidas no inverno são pelo menos 20% mais baratas, visto que não há muita mobilidade e as pessoas vendem na internet;\n",
    "# a) Aplicação: Torna a compra de casas em massa no inverno mais interessante diante da possibilidade de um desconto maior no valor dessas casas;\n",
    "# 4.2 Casas reformadas são ao menos 30% mais caras que casas que não passaram por reformas;\n",
    "# a) Aplicação: Informa se a compra de casas não reformadas é viável para revenda caso seja possível aplicar uma pequena reforma na casa e ganhar no valor de venda final;\n",
    "# 4.3 Casas com vista em frente à rios ou ao mar são pelo menos 20% mais caras;\n",
    "# a) Aplicação: Permite estudar a melhor oportunidade para comprar casas com vista de frente para rios ou mares e revender.\n",
    "\n",
    "# 5. Resultados financeiros para o negócio\n",
    " \n",
    "# 6. Conclusão\n",
    " \n",
    "# 7. Proximos passos"
   ]
  },
  {
   "cell_type": "code",
   "execution_count": 3,
   "id": "a0093a5b",
   "metadata": {},
   "outputs": [],
   "source": [
    "def load_data():\n",
    "    df = pd.read_csv('kc_house_data.csv')\n",
    "    return df"
   ]
  },
  {
   "cell_type": "code",
   "execution_count": 4,
   "id": "6edcaf1d",
   "metadata": {},
   "outputs": [],
   "source": [
    "def clean_data(df):\n",
    "    df.drop_duplicates(subset=['id'], keep='first', inplace=True)\n",
    "    df.drop(['grade', 'sqft_living15', 'sqft_lot15'], axis=1, inplace=True)\n",
    "    q1 = df['price'].quantile(0.25)\n",
    "    q3 = df['price'].quantile(0.75)\n",
    "    iqr = q3 - q1\n",
    "    lower_bound = q1 - 3 * iqr\n",
    "    upper_bound = q3 + 3 * iqr\n",
    "    ls = df.index[(df['price'] < lower_bound) | (df['price'] > upper_bound) ]\n",
    "    df.drop(ls, inplace=True)\n",
    "    df = df.reset_index()\n",
    "    return df"
   ]
  },
  {
   "cell_type": "code",
   "execution_count": 5,
   "id": "774e7929",
   "metadata": {},
   "outputs": [],
   "source": [
    "def set_data(df):\n",
    "    df['date'] = pd.to_datetime(df['date'])\n",
    "    df_temp = df.groupby('zipcode')['price'].median().reset_index()\n",
    "    df_temp.columns=['zipcode','median_price']\n",
    "    df = pd.merge(df,df_temp,on='zipcode',how='inner')\n",
    "    for i in range(len(df)):\n",
    "        if (df.loc[i, 'date'].month == 12) | (df.loc[i, 'date'].month <= 3):\n",
    "            df.loc[i, 'is_winter'] = 1\n",
    "        else:\n",
    "            df.loc[i, 'is_winter'] = 0\n",
    "    df_temp = df[['zipcode', 'is_winter','price']].groupby(['zipcode', 'is_winter']).median().reset_index()\n",
    "    df_temp = df_temp[df_temp['is_winter'] == 1].drop('is_winter', axis=1)\n",
    "    df_temp.columns=['zipcode','winter_median_price']\n",
    "    df = pd.merge(df, df_temp, on='zipcode', how='inner')\n",
    "    df['profit_value'] = np.nan\n",
    "    df['selling_price'] = np.nan\n",
    "    for i in range(len(df)):\n",
    "        if df.loc[i, 'is_winter'] == 0:\n",
    "                if (df.loc[i, 'price'] < df.loc[i, 'median_price']) & (df.loc[i, 'condition'] >= 3):\n",
    "                    df.loc[i, 'selling_price'] = df.loc[i, 'price']*1.2\n",
    "                    df.loc[i, 'profit_value'] = df.loc[i, 'selling_price']-df.loc[i, 'price']\n",
    "                    df.loc[i, 'worth_buying'] = 1\n",
    "                else: \n",
    "                    df.loc[i, 'worth_buying'] = 0\n",
    "        else:\n",
    "                if (df.loc[i, 'price'] < df.loc[i, 'winter_median_price']) & (df.loc[i, 'condition'] >= 3):\n",
    "                    df.loc[i, 'selling_price'] = df.loc[i, 'price']*1.2\n",
    "                    df.loc[i, 'profit_value'] = df.loc[i, 'selling_price']-df.loc[i, 'price']\n",
    "                    df.loc[i, 'worth_buying'] = 1\n",
    "                else: \n",
    "                    df.loc[i, 'worth_buying'] = 0\n",
    "    for i in range(len(df)):\n",
    "        if df.loc[i, 'yr_renovated'] > 0:\n",
    "            df.loc[i, 'is_renovated'] = 1\n",
    "        else:\n",
    "            df.loc[i, 'is_renovated'] = 0\n",
    "    return df"
   ]
  },
  {
   "cell_type": "code",
   "execution_count": 6,
   "id": "b32cd0b0",
   "metadata": {},
   "outputs": [],
   "source": [
    "def buying_list(df):\n",
    "    buying_list = df[df['worth_buying'] == 1][['id','price','selling_price']].reset_index(drop=True)\n",
    "    return buying_list"
   ]
  },
  {
   "cell_type": "code",
   "execution_count": 7,
   "id": "8c1c4c81",
   "metadata": {},
   "outputs": [],
   "source": [
    "def insight_i():\n",
    "    df1 = df.groupby(['zipcode','is_winter']).median()['price'].reset_index()\n",
    "    plt.figure(figsize=(18,6))\n",
    "    sns.barplot(data=df1, x='zipcode', y='price', palette='YlGnBu',hue='is_winter')\n",
    "    plt.ticklabel_format(style='plain', axis='y', useOffset=False)\n",
    "    plt.xticks(rotation=60)\n",
    "    plt.title('Properties prices in winter and in other seasons')\n",
    "    plt.xlabel('Zipcode')\n",
    "    plt.ylabel('Prices')\n",
    "    plt.legend(title='Winter Season')\n",
    "    cont = 0\n",
    "    for i in range(len(df1)):\n",
    "        if df1['is_winter'][i] == 0:\n",
    "            cont += 1\n",
    "            if df1['price'][i] == df1['price'].max():\n",
    "                break\n",
    "    plt.annotate('Max value: U$'+str(df1['price'].max()), xy=(cont-1, df1['price'].max()), horizontalalignment='center',  arrowprops={'facecolor':'black', 'headwidth':7.5, 'headlength':7.5, 'width':2, 'connectionstyle':\"arc3,rad=.3\"}, weight='bold', bbox=dict(fc=(.7, .7, .7), lw=1, pad=5, alpha=0.4), xytext=((cont-1)*1.3, (df1['price'][i])*0.90))\n",
    "    plt.show()\n"
   ]
  },
  {
   "cell_type": "code",
   "execution_count": 8,
   "id": "ca7655ec",
   "metadata": {},
   "outputs": [],
   "source": [
    "def insight_ii():\n",
    "    sns.boxplot(data=df, x='is_renovated', y='price', palette='BuPu',)\n",
    "    plt.ticklabel_format(style='plain', axis='y', useOffset=False)\n",
    "    plt.xticks(np.arange(2),['Properties with no renovation','Renovated Houses'])\n",
    "    plt.title('Properties prices with and without renovation')\n",
    "    plt.xlabel('Renovation')\n",
    "    plt.ylabel('Price')\n",
    "    plt.show()"
   ]
  },
  {
   "cell_type": "code",
   "execution_count": 9,
   "id": "63157d98",
   "metadata": {},
   "outputs": [],
   "source": [
    "def insight_iii():\n",
    "    df2 = df.groupby(['zipcode','waterfront'])['price'].median().reset_index()\n",
    "    for i in df2['zipcode']:\n",
    "            if (2 != df2[df2.loc[:, 'zipcode'] == i]['waterfront'].shape[0]):\n",
    "                df2.drop(df2[df2['zipcode'] == i].index, inplace=True)\n",
    "    df2.reset_index(inplace=True, drop=True)\n",
    "    df3 = df.groupby('waterfront')['price'].median().reset_index()\n",
    "    df3_temp = list(zip(df3['waterfront'],df3['price'])) \n",
    "    fig = plt.figure(figsize=(13,6))\n",
    "    ax1 = plt.subplot(1,2,1)\n",
    "    sns.barplot(data=df3, x='waterfront', y='price', palette='inferno')\n",
    "    for i in range(len(df3_temp)):\n",
    "        plt.annotate('U$ '+str(df3_temp[i][1]), df3_temp[i][:2], c='black', fontsize=17, horizontalalignment='center', xytext=(i, df3_temp[i][1]*1.005))\n",
    "\n",
    "    ax2 = plt.subplot(1,2,2)\n",
    "    sns.barplot(data=df2, x='zipcode', y='price', palette='inferno',hue='waterfront')\n",
    "    plt.xticks(rotation=60)\n",
    "    plt.ylabel('')\n",
    "    cont = 0\n",
    "    cont2 = 0\n",
    "    for i in range(len(df2)):\n",
    "        if df2['waterfront'][i] == 1:\n",
    "            cont += 1\n",
    "            if df2['price'][i] == df2['price'].max():\n",
    "                break\n",
    "    for i in range(len(df2)):\n",
    "        if df2['waterfront'][i] == 1:\n",
    "            cont2 += 1\n",
    "            if df2['price'][i] == df2['price'].min():\n",
    "                break\n",
    "    for i in range(len(df2)):\n",
    "        if df2['price'][i] == df2['price'].max():\n",
    "            plt.annotate('Max: U$ '+str(df2['price'][i]), xy=(cont-1+0.2, df2['price'][i]), ha='center',  arrowprops={'facecolor':'black', 'headwidth':7.5, 'headlength':7.5, 'width':2, 'connectionstyle':\"arc3,rad=.3\"}, xytext=((cont-1)*2, df2['price'][i]*0.9), weight='bold', bbox=dict(fc=(.7, .7, .7), lw=1, pad=5, alpha=0.7))\n",
    "        elif df2['price'][i] == df2['price'].min():\n",
    "            plt.annotate('Min: U$ '+str(df2['price'][i]), xy=(cont2-1, df2['price'][i]), horizontalalignment='center',  arrowprops={'facecolor':'black', 'headwidth':7.5, 'headlength':7.5, 'width':2, 'connectionstyle':\"arc3,rad=.3\"}, xytext=((cont2-1)*0.8, df2['price'][i]*2.1), weight='bold', bbox=dict(fc=(.7, .7, .7), lw=1, pad=5, alpha=0.7))\n",
    "\n",
    "    ax2.set_yticklabels([])\n",
    "    plt.tight_layout()\n",
    "    plt.show()"
   ]
  },
  {
   "cell_type": "code",
   "execution_count": 10,
   "id": "c0753e51",
   "metadata": {
    "scrolled": true
   },
   "outputs": [],
   "source": [
    "df = load_data()"
   ]
  },
  {
   "cell_type": "code",
   "execution_count": 11,
   "id": "f571f884",
   "metadata": {},
   "outputs": [],
   "source": [
    "df = clean_data(df)"
   ]
  },
  {
   "cell_type": "code",
   "execution_count": 12,
   "id": "60a1b6b0",
   "metadata": {},
   "outputs": [],
   "source": [
    "df = set_data(df)"
   ]
  },
  {
   "cell_type": "code",
   "execution_count": 13,
   "id": "8c28a6f1",
   "metadata": {},
   "outputs": [],
   "source": [
    "buying_list = buying_list(df)"
   ]
  },
  {
   "cell_type": "code",
   "execution_count": 14,
   "id": "62c6a134",
   "metadata": {},
   "outputs": [],
   "source": [
    "pd.DataFrame.to_csv(df, 'reworked_data.csv')"
   ]
  },
  {
   "cell_type": "code",
   "execution_count": 15,
   "id": "b9b8ff86",
   "metadata": {},
   "outputs": [],
   "source": [
    "pd.DataFrame.to_csv(buying_list, 'buying_list.csv')"
   ]
  },
  {
   "cell_type": "code",
   "execution_count": 16,
   "id": "a16b9c93",
   "metadata": {},
   "outputs": [
    {
     "data": {
      "image/png": "[encoded data removed]",
      "text/plain": [
       "<Figure size 1296x432 with 1 Axes>"
      ]
     },
     "metadata": {
      "needs_background": "light"
     },
     "output_type": "display_data"
    }
   ],
   "source": [
    "insight_i()"
   ]
  },
  {
   "cell_type": "code",
   "execution_count": 17,
   "id": "e6028bc3",
   "metadata": {},
   "outputs": [
    {
     "data": {
      "image/png": "[encoded data removed]",
      "text/plain": [
       "<Figure size 432x288 with 1 Axes>"
      ]
     },
     "metadata": {
      "needs_background": "light"
     },
     "output_type": "display_data"
    }
   ],
   "source": [
    "insight_ii()"
   ]
  },
  {
   "cell_type": "code",
   "execution_count": 18,
   "id": "d194cdbe",
   "metadata": {},
   "outputs": [
    {
     "data": {
      "image/png": "[encoded data removed]",
      "text/plain": [
       "<Figure size 936x432 with 2 Axes>"
      ]
     },
     "metadata": {
      "needs_background": "light"
     },
     "output_type": "display_data"
    }
   ],
   "source": [
    "insight_iii()"
   ]
  },
  {
   "cell_type": "code",
   "execution_count": 19,
   "id": "40ca1e93",
   "metadata": {},
   "outputs": [
    {
     "data": {
      "text/html": [
       "<div>\n",
       "<style scoped>\n",
       "    .dataframe tbody tr th:only-of-type {\n",
       "        vertical-align: middle;\n",
       "    }\n",
       "\n",
       "    .dataframe tbody tr th {\n",
       "        vertical-align: top;\n",
       "    }\n",
       "\n",
       "    .dataframe thead th {\n",
       "        text-align: right;\n",
       "    }\n",
       "</style>\n",
       "<table border=\"1\" class=\"dataframe\">\n",
       "  <thead>\n",
       "    <tr style=\"text-align: right;\">\n",
       "      <th></th>\n",
       "      <th>id</th>\n",
       "      <th>is_winter</th>\n",
       "      <th>price</th>\n",
       "      <th>median_price</th>\n",
       "      <th>winter_median_price</th>\n",
       "      <th>selling_price</th>\n",
       "      <th>profit_value</th>\n",
       "    </tr>\n",
       "  </thead>\n",
       "  <tbody>\n",
       "    <tr>\n",
       "      <th>0</th>\n",
       "      <td>7129300520</td>\n",
       "      <td>0.00</td>\n",
       "      <td>221900.00</td>\n",
       "      <td>279000.00</td>\n",
       "      <td>281000.00</td>\n",
       "      <td>266280.00</td>\n",
       "      <td>44380.00</td>\n",
       "    </tr>\n",
       "    <tr>\n",
       "      <th>1</th>\n",
       "      <td>4060000240</td>\n",
       "      <td>0.00</td>\n",
       "      <td>205425.00</td>\n",
       "      <td>279000.00</td>\n",
       "      <td>281000.00</td>\n",
       "      <td>246510.00</td>\n",
       "      <td>41085.00</td>\n",
       "    </tr>\n",
       "    <tr>\n",
       "      <th>2</th>\n",
       "      <td>4058801670</td>\n",
       "      <td>0.00</td>\n",
       "      <td>445000.00</td>\n",
       "      <td>279000.00</td>\n",
       "      <td>281000.00</td>\n",
       "      <td>NaN</td>\n",
       "      <td>NaN</td>\n",
       "    </tr>\n",
       "    <tr>\n",
       "      <th>3</th>\n",
       "      <td>2976800796</td>\n",
       "      <td>0.00</td>\n",
       "      <td>236000.00</td>\n",
       "      <td>279000.00</td>\n",
       "      <td>281000.00</td>\n",
       "      <td>283200.00</td>\n",
       "      <td>47200.00</td>\n",
       "    </tr>\n",
       "    <tr>\n",
       "      <th>4</th>\n",
       "      <td>6874200960</td>\n",
       "      <td>1.00</td>\n",
       "      <td>170000.00</td>\n",
       "      <td>279000.00</td>\n",
       "      <td>281000.00</td>\n",
       "      <td>204000.00</td>\n",
       "      <td>34000.00</td>\n",
       "    </tr>\n",
       "    <tr>\n",
       "      <th>...</th>\n",
       "      <td>...</td>\n",
       "      <td>...</td>\n",
       "      <td>...</td>\n",
       "      <td>...</td>\n",
       "      <td>...</td>\n",
       "      <td>...</td>\n",
       "      <td>...</td>\n",
       "    </tr>\n",
       "    <tr>\n",
       "      <th>21014</th>\n",
       "      <td>3835502815</td>\n",
       "      <td>0.00</td>\n",
       "      <td>1260000.00</td>\n",
       "      <td>1242500.00</td>\n",
       "      <td>937500.00</td>\n",
       "      <td>NaN</td>\n",
       "      <td>NaN</td>\n",
       "    </tr>\n",
       "    <tr>\n",
       "      <th>21015</th>\n",
       "      <td>3262300920</td>\n",
       "      <td>0.00</td>\n",
       "      <td>1200000.00</td>\n",
       "      <td>1242500.00</td>\n",
       "      <td>937500.00</td>\n",
       "      <td>1440000.00</td>\n",
       "      <td>240000.00</td>\n",
       "    </tr>\n",
       "    <tr>\n",
       "      <th>21016</th>\n",
       "      <td>3025300225</td>\n",
       "      <td>0.00</td>\n",
       "      <td>1450000.00</td>\n",
       "      <td>1242500.00</td>\n",
       "      <td>937500.00</td>\n",
       "      <td>NaN</td>\n",
       "      <td>NaN</td>\n",
       "    </tr>\n",
       "    <tr>\n",
       "      <th>21017</th>\n",
       "      <td>3625049079</td>\n",
       "      <td>0.00</td>\n",
       "      <td>1350000.00</td>\n",
       "      <td>1242500.00</td>\n",
       "      <td>937500.00</td>\n",
       "      <td>NaN</td>\n",
       "      <td>NaN</td>\n",
       "    </tr>\n",
       "    <tr>\n",
       "      <th>21018</th>\n",
       "      <td>5427100150</td>\n",
       "      <td>0.00</td>\n",
       "      <td>1410000.00</td>\n",
       "      <td>1242500.00</td>\n",
       "      <td>937500.00</td>\n",
       "      <td>NaN</td>\n",
       "      <td>NaN</td>\n",
       "    </tr>\n",
       "  </tbody>\n",
       "</table>\n",
       "<p>21019 rows × 7 columns</p>\n",
       "</div>"
      ],
      "text/plain": [
       "               id  is_winter      price  median_price  winter_median_price  \\\n",
       "0      7129300520       0.00  221900.00     279000.00            281000.00   \n",
       "1      4060000240       0.00  205425.00     279000.00            281000.00   \n",
       "2      4058801670       0.00  445000.00     279000.00            281000.00   \n",
       "3      2976800796       0.00  236000.00     279000.00            281000.00   \n",
       "4      6874200960       1.00  170000.00     279000.00            281000.00   \n",
       "...           ...        ...        ...           ...                  ...   \n",
       "21014  3835502815       0.00 1260000.00    1242500.00            937500.00   \n",
       "21015  3262300920       0.00 1200000.00    1242500.00            937500.00   \n",
       "21016  3025300225       0.00 1450000.00    1242500.00            937500.00   \n",
       "21017  3625049079       0.00 1350000.00    1242500.00            937500.00   \n",
       "21018  5427100150       0.00 1410000.00    1242500.00            937500.00   \n",
       "\n",
       "       selling_price  profit_value  \n",
       "0          266280.00      44380.00  \n",
       "1          246510.00      41085.00  \n",
       "2                NaN           NaN  \n",
       "3          283200.00      47200.00  \n",
       "4          204000.00      34000.00  \n",
       "...              ...           ...  \n",
       "21014            NaN           NaN  \n",
       "21015     1440000.00     240000.00  \n",
       "21016            NaN           NaN  \n",
       "21017            NaN           NaN  \n",
       "21018            NaN           NaN  \n",
       "\n",
       "[21019 rows x 7 columns]"
      ]
     },
     "execution_count": 19,
     "metadata": {},
     "output_type": "execute_result"
    }
   ],
   "source": [
    "df[['id','is_winter','price','median_price','winter_median_price','selling_price','profit_value']]"
   ]
  },
  {
   "cell_type": "code",
   "execution_count": 20,
   "id": "6bf3067e",
   "metadata": {},
   "outputs": [
    {
     "data": {
      "text/plain": [
       "777552813.2"
      ]
     },
     "execution_count": 20,
     "metadata": {},
     "output_type": "execute_result"
    }
   ],
   "source": [
    "df['profit_value'].sum()"
   ]
  },
  {
   "cell_type": "raw",
   "id": "e9f51a37",
   "metadata": {},
   "source": []
  },
  {
   "cell_type": "code",
   "execution_count": null,
   "id": "c836eb4d",
   "metadata": {},
   "outputs": [],
   "source": []
  }
 ],
 "metadata": {
  "kernelspec": {
   "display_name": "Python 3 (ipykernel)",
   "language": "python",
   "name": "python3"
  },
  "language_info": {
   "codemirror_mode": {
    "name": "ipython",
    "version": 3
   },
   "file_extension": ".py",
   "mimetype": "text/x-python",
   "name": "python",
   "nbconvert_exporter": "python",
   "pygments_lexer": "ipython3",
   "version": "3.9.7"
  }
 },
 "nbformat": 4,
 "nbformat_minor": 5
}
